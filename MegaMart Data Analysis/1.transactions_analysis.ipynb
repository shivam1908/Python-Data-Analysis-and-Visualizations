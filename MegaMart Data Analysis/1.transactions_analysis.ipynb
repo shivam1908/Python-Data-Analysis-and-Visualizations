{
 "cells": [
  {
   "cell_type": "code",
   "execution_count": 1,
   "id": "520126b3-8224-4860-a371-a466c39624df",
   "metadata": {},
   "outputs": [],
   "source": [
    "import pandas as pd\n",
    "import numpy as np\n"
   ]
  },
  {
   "cell_type": "code",
   "execution_count": 6,
   "id": "6793e81d-b7b1-41c6-adce-f6a8a89fd98d",
   "metadata": {},
   "outputs": [
    {
     "data": {
      "text/plain": [
       "['.DS_Store',\n",
       " 'hh_demographic.csv',\n",
       " 'premier_league_games.xlsx',\n",
       " 'premier_league_games_full.xlsx',\n",
       " 'product.csv',\n",
       " 'project_transactions.csv']"
      ]
     },
     "execution_count": 6,
     "metadata": {},
     "output_type": "execute_result"
    }
   ],
   "source": [
    "import os\n",
    "os.listdir(\"../../Datasets/project_data\")"
   ]
  },
  {
   "cell_type": "code",
   "execution_count": 9,
   "id": "aec46294-fa1c-4c07-be61-a3822681abaf",
   "metadata": {},
   "outputs": [],
   "source": [
    "base_dir = \"../../Datasets/project_data/\""
   ]
  },
  {
   "cell_type": "code",
   "execution_count": 75,
   "id": "0e9d1c60-b83e-481a-a19a-7cfa3e01b8ca",
   "metadata": {},
   "outputs": [
    {
     "data": {
      "text/html": [
       "<div>\n",
       "<style scoped>\n",
       "    .dataframe tbody tr th:only-of-type {\n",
       "        vertical-align: middle;\n",
       "    }\n",
       "\n",
       "    .dataframe tbody tr th {\n",
       "        vertical-align: top;\n",
       "    }\n",
       "\n",
       "    .dataframe thead th {\n",
       "        text-align: right;\n",
       "    }\n",
       "</style>\n",
       "<table border=\"1\" class=\"dataframe\">\n",
       "  <thead>\n",
       "    <tr style=\"text-align: right;\">\n",
       "      <th></th>\n",
       "      <th>household_key</th>\n",
       "      <th>BASKET_ID</th>\n",
       "      <th>DAY</th>\n",
       "      <th>PRODUCT_ID</th>\n",
       "      <th>QUANTITY</th>\n",
       "      <th>SALES_VALUE</th>\n",
       "      <th>STORE_ID</th>\n",
       "      <th>RETAIL_DISC</th>\n",
       "      <th>WEEK_NO</th>\n",
       "      <th>COUPON_DISC</th>\n",
       "      <th>COUPON_MATCH_DISC</th>\n",
       "    </tr>\n",
       "  </thead>\n",
       "  <tbody>\n",
       "    <tr>\n",
       "      <th>0</th>\n",
       "      <td>1364</td>\n",
       "      <td>26984896261</td>\n",
       "      <td>1</td>\n",
       "      <td>842930</td>\n",
       "      <td>1</td>\n",
       "      <td>2.19</td>\n",
       "      <td>31742</td>\n",
       "      <td>0.00</td>\n",
       "      <td>1</td>\n",
       "      <td>0.0</td>\n",
       "      <td>0.0</td>\n",
       "    </tr>\n",
       "    <tr>\n",
       "      <th>1</th>\n",
       "      <td>1364</td>\n",
       "      <td>26984896261</td>\n",
       "      <td>1</td>\n",
       "      <td>897044</td>\n",
       "      <td>1</td>\n",
       "      <td>2.99</td>\n",
       "      <td>31742</td>\n",
       "      <td>-0.40</td>\n",
       "      <td>1</td>\n",
       "      <td>0.0</td>\n",
       "      <td>0.0</td>\n",
       "    </tr>\n",
       "    <tr>\n",
       "      <th>2</th>\n",
       "      <td>1364</td>\n",
       "      <td>26984896261</td>\n",
       "      <td>1</td>\n",
       "      <td>920955</td>\n",
       "      <td>1</td>\n",
       "      <td>3.09</td>\n",
       "      <td>31742</td>\n",
       "      <td>0.00</td>\n",
       "      <td>1</td>\n",
       "      <td>0.0</td>\n",
       "      <td>0.0</td>\n",
       "    </tr>\n",
       "    <tr>\n",
       "      <th>3</th>\n",
       "      <td>1364</td>\n",
       "      <td>26984896261</td>\n",
       "      <td>1</td>\n",
       "      <td>937406</td>\n",
       "      <td>1</td>\n",
       "      <td>2.50</td>\n",
       "      <td>31742</td>\n",
       "      <td>-0.99</td>\n",
       "      <td>1</td>\n",
       "      <td>0.0</td>\n",
       "      <td>0.0</td>\n",
       "    </tr>\n",
       "    <tr>\n",
       "      <th>4</th>\n",
       "      <td>1364</td>\n",
       "      <td>26984896261</td>\n",
       "      <td>1</td>\n",
       "      <td>981760</td>\n",
       "      <td>1</td>\n",
       "      <td>0.60</td>\n",
       "      <td>31742</td>\n",
       "      <td>-0.79</td>\n",
       "      <td>1</td>\n",
       "      <td>0.0</td>\n",
       "      <td>0.0</td>\n",
       "    </tr>\n",
       "  </tbody>\n",
       "</table>\n",
       "</div>"
      ],
      "text/plain": [
       "   household_key    BASKET_ID  DAY  PRODUCT_ID  QUANTITY  SALES_VALUE  \\\n",
       "0           1364  26984896261    1      842930         1         2.19   \n",
       "1           1364  26984896261    1      897044         1         2.99   \n",
       "2           1364  26984896261    1      920955         1         3.09   \n",
       "3           1364  26984896261    1      937406         1         2.50   \n",
       "4           1364  26984896261    1      981760         1         0.60   \n",
       "\n",
       "   STORE_ID  RETAIL_DISC  WEEK_NO  COUPON_DISC  COUPON_MATCH_DISC  \n",
       "0     31742         0.00        1          0.0                0.0  \n",
       "1     31742        -0.40        1          0.0                0.0  \n",
       "2     31742         0.00        1          0.0                0.0  \n",
       "3     31742        -0.99        1          0.0                0.0  \n",
       "4     31742        -0.79        1          0.0                0.0  "
      ]
     },
     "execution_count": 75,
     "metadata": {},
     "output_type": "execute_result"
    }
   ],
   "source": [
    "transactions =  pd.read_csv(base_dir +\"project_transactions.csv\")\n",
    "transactions.head()"
   ]
  },
  {
   "cell_type": "code",
   "execution_count": 13,
   "id": "2ee932a3-7d94-44b5-ac86-924911d9d1c5",
   "metadata": {},
   "outputs": [
    {
     "name": "stdout",
     "output_type": "stream",
     "text": [
      "<class 'pandas.core.frame.DataFrame'>\n",
      "RangeIndex: 2146311 entries, 0 to 2146310\n",
      "Data columns (total 11 columns):\n",
      " #   Column             Dtype  \n",
      "---  ------             -----  \n",
      " 0   household_key      int64  \n",
      " 1   BASKET_ID          int64  \n",
      " 2   DAY                int64  \n",
      " 3   PRODUCT_ID         int64  \n",
      " 4   QUANTITY           int64  \n",
      " 5   SALES_VALUE        float64\n",
      " 6   STORE_ID           int64  \n",
      " 7   RETAIL_DISC        float64\n",
      " 8   WEEK_NO            int64  \n",
      " 9   COUPON_DISC        float64\n",
      " 10  COUPON_MATCH_DISC  float64\n",
      "dtypes: float64(4), int64(7)\n",
      "memory usage: 180.1 MB\n"
     ]
    }
   ],
   "source": [
    "transactions.info()"
   ]
  },
  {
   "cell_type": "code",
   "execution_count": 16,
   "id": "9b4d844e-d2c0-4cb5-bf54-9915a3870023",
   "metadata": {},
   "outputs": [
    {
     "data": {
      "text/html": [
       "<div>\n",
       "<style scoped>\n",
       "    .dataframe tbody tr th:only-of-type {\n",
       "        vertical-align: middle;\n",
       "    }\n",
       "\n",
       "    .dataframe tbody tr th {\n",
       "        vertical-align: top;\n",
       "    }\n",
       "\n",
       "    .dataframe thead th {\n",
       "        text-align: right;\n",
       "    }\n",
       "</style>\n",
       "<table border=\"1\" class=\"dataframe\">\n",
       "  <thead>\n",
       "    <tr style=\"text-align: right;\">\n",
       "      <th></th>\n",
       "      <th>household_key</th>\n",
       "      <th>BASKET_ID</th>\n",
       "      <th>DAY</th>\n",
       "      <th>PRODUCT_ID</th>\n",
       "      <th>QUANTITY</th>\n",
       "      <th>SALES_VALUE</th>\n",
       "      <th>STORE_ID</th>\n",
       "      <th>RETAIL_DISC</th>\n",
       "      <th>WEEK_NO</th>\n",
       "      <th>COUPON_DISC</th>\n",
       "      <th>COUPON_MATCH_DISC</th>\n",
       "    </tr>\n",
       "  </thead>\n",
       "  <tbody>\n",
       "    <tr>\n",
       "      <th>count</th>\n",
       "      <td>2146311.00</td>\n",
       "      <td>2.146311e+06</td>\n",
       "      <td>2146311.00</td>\n",
       "      <td>2146311.00</td>\n",
       "      <td>2146311.00</td>\n",
       "      <td>2146311.00</td>\n",
       "      <td>2146311.00</td>\n",
       "      <td>2146311.00</td>\n",
       "      <td>2146311.00</td>\n",
       "      <td>2146311.00</td>\n",
       "      <td>2146311.00</td>\n",
       "    </tr>\n",
       "    <tr>\n",
       "      <th>mean</th>\n",
       "      <td>1056.23</td>\n",
       "      <td>3.404897e+10</td>\n",
       "      <td>389.51</td>\n",
       "      <td>2884714.94</td>\n",
       "      <td>100.97</td>\n",
       "      <td>3.11</td>\n",
       "      <td>3267.94</td>\n",
       "      <td>-0.53</td>\n",
       "      <td>56.33</td>\n",
       "      <td>-0.02</td>\n",
       "      <td>-0.00</td>\n",
       "    </tr>\n",
       "    <tr>\n",
       "      <th>std</th>\n",
       "      <td>605.01</td>\n",
       "      <td>4.723748e+09</td>\n",
       "      <td>190.05</td>\n",
       "      <td>3831949.29</td>\n",
       "      <td>1152.36</td>\n",
       "      <td>4.19</td>\n",
       "      <td>9122.39</td>\n",
       "      <td>1.23</td>\n",
       "      <td>27.15</td>\n",
       "      <td>0.21</td>\n",
       "      <td>0.04</td>\n",
       "    </tr>\n",
       "    <tr>\n",
       "      <th>min</th>\n",
       "      <td>1.00</td>\n",
       "      <td>2.698490e+10</td>\n",
       "      <td>1.00</td>\n",
       "      <td>25671.00</td>\n",
       "      <td>0.00</td>\n",
       "      <td>0.00</td>\n",
       "      <td>1.00</td>\n",
       "      <td>-130.02</td>\n",
       "      <td>1.00</td>\n",
       "      <td>-55.93</td>\n",
       "      <td>-7.70</td>\n",
       "    </tr>\n",
       "    <tr>\n",
       "      <th>25%</th>\n",
       "      <td>548.00</td>\n",
       "      <td>3.040798e+10</td>\n",
       "      <td>229.00</td>\n",
       "      <td>917231.00</td>\n",
       "      <td>1.00</td>\n",
       "      <td>1.29</td>\n",
       "      <td>330.00</td>\n",
       "      <td>-0.68</td>\n",
       "      <td>33.00</td>\n",
       "      <td>0.00</td>\n",
       "      <td>0.00</td>\n",
       "    </tr>\n",
       "    <tr>\n",
       "      <th>50%</th>\n",
       "      <td>1042.00</td>\n",
       "      <td>3.281176e+10</td>\n",
       "      <td>392.00</td>\n",
       "      <td>1027960.00</td>\n",
       "      <td>1.00</td>\n",
       "      <td>2.00</td>\n",
       "      <td>372.00</td>\n",
       "      <td>0.00</td>\n",
       "      <td>57.00</td>\n",
       "      <td>0.00</td>\n",
       "      <td>0.00</td>\n",
       "    </tr>\n",
       "    <tr>\n",
       "      <th>75%</th>\n",
       "      <td>1581.00</td>\n",
       "      <td>4.012804e+10</td>\n",
       "      <td>555.00</td>\n",
       "      <td>1132771.00</td>\n",
       "      <td>1.00</td>\n",
       "      <td>3.49</td>\n",
       "      <td>422.00</td>\n",
       "      <td>0.00</td>\n",
       "      <td>80.00</td>\n",
       "      <td>0.00</td>\n",
       "      <td>0.00</td>\n",
       "    </tr>\n",
       "    <tr>\n",
       "      <th>max</th>\n",
       "      <td>2099.00</td>\n",
       "      <td>4.230536e+10</td>\n",
       "      <td>711.00</td>\n",
       "      <td>18316298.00</td>\n",
       "      <td>89638.00</td>\n",
       "      <td>840.00</td>\n",
       "      <td>34280.00</td>\n",
       "      <td>3.99</td>\n",
       "      <td>102.00</td>\n",
       "      <td>0.00</td>\n",
       "      <td>0.00</td>\n",
       "    </tr>\n",
       "  </tbody>\n",
       "</table>\n",
       "</div>"
      ],
      "text/plain": [
       "       household_key     BASKET_ID         DAY   PRODUCT_ID    QUANTITY  \\\n",
       "count     2146311.00  2.146311e+06  2146311.00   2146311.00  2146311.00   \n",
       "mean         1056.23  3.404897e+10      389.51   2884714.94      100.97   \n",
       "std           605.01  4.723748e+09      190.05   3831949.29     1152.36   \n",
       "min             1.00  2.698490e+10        1.00     25671.00        0.00   \n",
       "25%           548.00  3.040798e+10      229.00    917231.00        1.00   \n",
       "50%          1042.00  3.281176e+10      392.00   1027960.00        1.00   \n",
       "75%          1581.00  4.012804e+10      555.00   1132771.00        1.00   \n",
       "max          2099.00  4.230536e+10      711.00  18316298.00    89638.00   \n",
       "\n",
       "       SALES_VALUE    STORE_ID  RETAIL_DISC     WEEK_NO  COUPON_DISC  \\\n",
       "count   2146311.00  2146311.00   2146311.00  2146311.00   2146311.00   \n",
       "mean          3.11     3267.94        -0.53       56.33        -0.02   \n",
       "std           4.19     9122.39         1.23       27.15         0.21   \n",
       "min           0.00        1.00      -130.02        1.00       -55.93   \n",
       "25%           1.29      330.00        -0.68       33.00         0.00   \n",
       "50%           2.00      372.00         0.00       57.00         0.00   \n",
       "75%           3.49      422.00         0.00       80.00         0.00   \n",
       "max         840.00    34280.00         3.99      102.00         0.00   \n",
       "\n",
       "       COUPON_MATCH_DISC  \n",
       "count         2146311.00  \n",
       "mean               -0.00  \n",
       "std                 0.04  \n",
       "min                -7.70  \n",
       "25%                 0.00  \n",
       "50%                 0.00  \n",
       "75%                 0.00  \n",
       "max                 0.00  "
      ]
     },
     "execution_count": 16,
     "metadata": {},
     "output_type": "execute_result"
    }
   ],
   "source": [
    "transactions.describe().round(2)"
   ]
  },
  {
   "cell_type": "code",
   "execution_count": 76,
   "id": "db2aca3f-0825-4978-ba03-94ae50a0018c",
   "metadata": {},
   "outputs": [],
   "source": [
    "transactions = transactions.astype({\n",
    "                        'DAY' : 'Int16',\n",
    "                        'QUANTITY' : 'Int32',\n",
    "                        'STORE_ID' : 'Int32',\n",
    "                        'WEEK_NO': 'Int16'}\n",
    "                   )"
   ]
  },
  {
   "cell_type": "code",
   "execution_count": 23,
   "id": "879312c9-368a-45a5-a54b-7d3c22175c4b",
   "metadata": {},
   "outputs": [
    {
     "name": "stdout",
     "output_type": "stream",
     "text": [
      "<class 'pandas.core.frame.DataFrame'>\n",
      "RangeIndex: 2146311 entries, 0 to 2146310\n",
      "Data columns (total 11 columns):\n",
      " #   Column             Dtype  \n",
      "---  ------             -----  \n",
      " 0   household_key      int64  \n",
      " 1   BASKET_ID          int64  \n",
      " 2   DAY                Int16  \n",
      " 3   PRODUCT_ID         int64  \n",
      " 4   QUANTITY           Int32  \n",
      " 5   SALES_VALUE        float64\n",
      " 6   STORE_ID           Int32  \n",
      " 7   RETAIL_DISC        float64\n",
      " 8   WEEK_NO            Int16  \n",
      " 9   COUPON_DISC        float64\n",
      " 10  COUPON_MATCH_DISC  float64\n",
      "dtypes: Int16(2), Int32(2), float64(4), int64(3)\n",
      "memory usage: 147.4 MB\n"
     ]
    }
   ],
   "source": [
    "transactions.info()"
   ]
  },
  {
   "cell_type": "markdown",
   "id": "c4741784-d823-4fd2-bd54-37a4aef840d2",
   "metadata": {},
   "source": []
  },
  {
   "cell_type": "code",
   "execution_count": 28,
   "id": "177b5481-598b-45d2-9e30-339b83c91c6e",
   "metadata": {},
   "outputs": [
    {
     "data": {
      "text/plain": [
       "household_key        0\n",
       "BASKET_ID            0\n",
       "DAY                  0\n",
       "PRODUCT_ID           0\n",
       "QUANTITY             0\n",
       "SALES_VALUE          0\n",
       "STORE_ID             0\n",
       "RETAIL_DISC          0\n",
       "WEEK_NO              0\n",
       "COUPON_DISC          0\n",
       "COUPON_MATCH_DISC    0\n",
       "dtype: int64"
      ]
     },
     "execution_count": 28,
     "metadata": {},
     "output_type": "execute_result"
    }
   ],
   "source": [
    "# Check for missing values\n",
    "transactions.isna().sum()"
   ]
  },
  {
   "cell_type": "code",
   "execution_count": 29,
   "id": "d60bd3d3-df02-43f5-914f-4fc65cfad65b",
   "metadata": {},
   "outputs": [
    {
     "data": {
      "text/plain": [
       "2099"
      ]
     },
     "execution_count": 29,
     "metadata": {},
     "output_type": "execute_result"
    }
   ],
   "source": [
    "# Calculate unique households in dataset \n",
    "transactions['household_key'].nunique()"
   ]
  },
  {
   "cell_type": "code",
   "execution_count": 30,
   "id": "253afaeb-2356-4ac1-90c1-93e107954abf",
   "metadata": {},
   "outputs": [
    {
     "data": {
      "text/plain": [
       "84138"
      ]
     },
     "execution_count": 30,
     "metadata": {},
     "output_type": "execute_result"
    }
   ],
   "source": [
    "# Calculate unique product_ids in dataset\n",
    "transactions['PRODUCT_ID'].nunique()"
   ]
  },
  {
   "cell_type": "code",
   "execution_count": 77,
   "id": "7a05c406-aeed-462f-a0d0-2deed102cf15",
   "metadata": {},
   "outputs": [],
   "source": [
    "transactions.rename(columns= {\n",
    "                        'BASKET_ID' : 'basket_id',\n",
    "                        'DAY' : 'day',\n",
    "                        'PRODUCT_ID' : 'product_id',\n",
    "                        'QUANTITY' : 'quantity',\n",
    "                        'SALES_VALUE' : 'sales_value',\n",
    "                        'STORE_ID' : 'store_id',\n",
    "                        'RETAIL_DISC' : 'retail_disc',\n",
    "                        'WEEK_NO' : 'week_no',\n",
    "                        'COUPON_DISC' : 'coupon_disc',\n",
    "                        'COUPON_MATCH_DISC' : 'coupon_match_disc'\n",
    "                        },\n",
    "                        inplace = True\n",
    "                   )"
   ]
  },
  {
   "cell_type": "code",
   "execution_count": 78,
   "id": "b7f68d27-002f-4f18-a517-89772c25b1cd",
   "metadata": {},
   "outputs": [
    {
     "name": "stdout",
     "output_type": "stream",
     "text": [
      "<class 'pandas.core.frame.DataFrame'>\n",
      "RangeIndex: 2146311 entries, 0 to 2146310\n",
      "Data columns (total 11 columns):\n",
      " #   Column             Dtype  \n",
      "---  ------             -----  \n",
      " 0   household_key      int64  \n",
      " 1   basket_id          int64  \n",
      " 2   day                Int16  \n",
      " 3   product_id         int64  \n",
      " 4   quantity           Int32  \n",
      " 5   sales_value        float64\n",
      " 6   store_id           Int32  \n",
      " 7   retail_disc        float64\n",
      " 8   week_no            Int16  \n",
      " 9   coupon_disc        float64\n",
      " 10  coupon_match_disc  float64\n",
      "dtypes: Int16(2), Int32(2), float64(4), int64(3)\n",
      "memory usage: 147.4 MB\n"
     ]
    }
   ],
   "source": [
    "transactions.info()"
   ]
  },
  {
   "cell_type": "code",
   "execution_count": 79,
   "id": "c8c2cfd4-d470-4c55-8709-8a5ed9b306b6",
   "metadata": {},
   "outputs": [
    {
     "data": {
      "text/html": [
       "<div>\n",
       "<style scoped>\n",
       "    .dataframe tbody tr th:only-of-type {\n",
       "        vertical-align: middle;\n",
       "    }\n",
       "\n",
       "    .dataframe tbody tr th {\n",
       "        vertical-align: top;\n",
       "    }\n",
       "\n",
       "    .dataframe thead th {\n",
       "        text-align: right;\n",
       "    }\n",
       "</style>\n",
       "<table border=\"1\" class=\"dataframe\">\n",
       "  <thead>\n",
       "    <tr style=\"text-align: right;\">\n",
       "      <th></th>\n",
       "      <th>household_key</th>\n",
       "      <th>basket_id</th>\n",
       "      <th>day</th>\n",
       "      <th>product_id</th>\n",
       "      <th>quantity</th>\n",
       "      <th>sales_value</th>\n",
       "      <th>store_id</th>\n",
       "      <th>retail_disc</th>\n",
       "      <th>week_no</th>\n",
       "      <th>coupon_disc</th>\n",
       "      <th>coupon_match_disc</th>\n",
       "    </tr>\n",
       "  </thead>\n",
       "  <tbody>\n",
       "    <tr>\n",
       "      <th>0</th>\n",
       "      <td>1364</td>\n",
       "      <td>26984896261</td>\n",
       "      <td>1</td>\n",
       "      <td>842930</td>\n",
       "      <td>1</td>\n",
       "      <td>2.19</td>\n",
       "      <td>31742</td>\n",
       "      <td>0.00</td>\n",
       "      <td>1</td>\n",
       "      <td>0.0</td>\n",
       "      <td>0.0</td>\n",
       "    </tr>\n",
       "    <tr>\n",
       "      <th>1</th>\n",
       "      <td>1364</td>\n",
       "      <td>26984896261</td>\n",
       "      <td>1</td>\n",
       "      <td>897044</td>\n",
       "      <td>1</td>\n",
       "      <td>2.99</td>\n",
       "      <td>31742</td>\n",
       "      <td>-0.40</td>\n",
       "      <td>1</td>\n",
       "      <td>0.0</td>\n",
       "      <td>0.0</td>\n",
       "    </tr>\n",
       "    <tr>\n",
       "      <th>2</th>\n",
       "      <td>1364</td>\n",
       "      <td>26984896261</td>\n",
       "      <td>1</td>\n",
       "      <td>920955</td>\n",
       "      <td>1</td>\n",
       "      <td>3.09</td>\n",
       "      <td>31742</td>\n",
       "      <td>0.00</td>\n",
       "      <td>1</td>\n",
       "      <td>0.0</td>\n",
       "      <td>0.0</td>\n",
       "    </tr>\n",
       "    <tr>\n",
       "      <th>3</th>\n",
       "      <td>1364</td>\n",
       "      <td>26984896261</td>\n",
       "      <td>1</td>\n",
       "      <td>937406</td>\n",
       "      <td>1</td>\n",
       "      <td>2.50</td>\n",
       "      <td>31742</td>\n",
       "      <td>-0.99</td>\n",
       "      <td>1</td>\n",
       "      <td>0.0</td>\n",
       "      <td>0.0</td>\n",
       "    </tr>\n",
       "    <tr>\n",
       "      <th>4</th>\n",
       "      <td>1364</td>\n",
       "      <td>26984896261</td>\n",
       "      <td>1</td>\n",
       "      <td>981760</td>\n",
       "      <td>1</td>\n",
       "      <td>0.60</td>\n",
       "      <td>31742</td>\n",
       "      <td>-0.79</td>\n",
       "      <td>1</td>\n",
       "      <td>0.0</td>\n",
       "      <td>0.0</td>\n",
       "    </tr>\n",
       "  </tbody>\n",
       "</table>\n",
       "</div>"
      ],
      "text/plain": [
       "   household_key    basket_id  day  product_id  quantity  sales_value  \\\n",
       "0           1364  26984896261    1      842930         1         2.19   \n",
       "1           1364  26984896261    1      897044         1         2.99   \n",
       "2           1364  26984896261    1      920955         1         3.09   \n",
       "3           1364  26984896261    1      937406         1         2.50   \n",
       "4           1364  26984896261    1      981760         1         0.60   \n",
       "\n",
       "   store_id  retail_disc  week_no  coupon_disc  coupon_match_disc  \n",
       "0     31742         0.00        1          0.0                0.0  \n",
       "1     31742        -0.40        1          0.0                0.0  \n",
       "2     31742         0.00        1          0.0                0.0  \n",
       "3     31742        -0.99        1          0.0                0.0  \n",
       "4     31742        -0.79        1          0.0                0.0  "
      ]
     },
     "execution_count": 79,
     "metadata": {},
     "output_type": "execute_result"
    }
   ],
   "source": [
    "transactions.head()"
   ]
  },
  {
   "cell_type": "raw",
   "id": "9f24d004-c738-4746-9f18-cbd05a7a9309",
   "metadata": {},
   "source": []
  },
  {
   "cell_type": "markdown",
   "id": "41926c93-d9b3-43e9-820b-8a8246349a05",
   "metadata": {},
   "source": [
    "### Adding New columns\n",
    "1. total_disc = retail_disc + coupon_disc\n",
    "2. percentage_disc = total_disc / sales_value\n",
    "3. if percentage_disc > 1 , set =1 else set = 0\n",
    "4. drop the individual discount columns"
   ]
  },
  {
   "cell_type": "code",
   "execution_count": 80,
   "id": "f038edfb-d3b6-4638-bc3b-b576e933ac2b",
   "metadata": {},
   "outputs": [],
   "source": [
    "transactions = (\n",
    "                transactions\n",
    "                    .assign(\n",
    "                                total_discount = transactions['retail_disc'] + transactions['coupon_disc'],\n",
    "                                percent_discount = (lambda x : ( x['total_discount'] / x['sales_value'] ).abs().round(2)))\n",
    "                    .drop(['retail_disc','coupon_disc','coupon_match_disc'], axis = 1 )\n",
    ")\n",
    "\n",
    "                                   "
   ]
  },
  {
   "cell_type": "code",
   "execution_count": 81,
   "id": "e22c1134-55d7-47af-87a8-cd0db8873494",
   "metadata": {},
   "outputs": [],
   "source": [
    "# Use where to cap the values above 1 at 1 and below 0 at 0 . Other methods could be used here as well\n",
    "transactions['percent_discount'] = ( transactions['percent_discount']\n",
    "                                    .where(transactions['percent_discount'] < 1 , 1.0)\n",
    "                                    \n",
    "                                   )"
   ]
  },
  {
   "cell_type": "code",
   "execution_count": 82,
   "id": "8a025af0-cf49-40bc-a9d1-35008db51153",
   "metadata": {},
   "outputs": [
    {
     "data": {
      "text/plain": [
       "6666243.499999999"
      ]
     },
     "execution_count": 82,
     "metadata": {},
     "output_type": "execute_result"
    }
   ],
   "source": [
    "# Total Sales Value\n",
    "transactions['sales_value'].sum()"
   ]
  },
  {
   "cell_type": "code",
   "execution_count": 83,
   "id": "bc83b415-be90-40e9-b889-d2f8278c1e0d",
   "metadata": {},
   "outputs": [
    {
     "data": {
      "text/plain": [
       "-1178658.0799999998"
      ]
     },
     "execution_count": 83,
     "metadata": {},
     "output_type": "execute_result"
    }
   ],
   "source": [
    "# Total Discount\n",
    "transactions['total_discount'].sum()"
   ]
  },
  {
   "cell_type": "code",
   "execution_count": 84,
   "id": "c6b43617-1120-4fb6-93c0-b1abd0d4a086",
   "metadata": {},
   "outputs": [
    {
     "data": {
      "text/plain": [
       "-0.1768099350106248"
      ]
     },
     "execution_count": 84,
     "metadata": {},
     "output_type": "execute_result"
    }
   ],
   "source": [
    "# overall percent discount\n",
    "transactions['total_discount'].sum()/ transactions['sales_value'].sum()"
   ]
  },
  {
   "cell_type": "code",
   "execution_count": 85,
   "id": "13e25d2a-f8f5-4063-ae19-18653ed9fc8b",
   "metadata": {},
   "outputs": [
    {
     "data": {
      "text/plain": [
       "453743.0399999999"
      ]
     },
     "execution_count": 85,
     "metadata": {},
     "output_type": "execute_result"
    }
   ],
   "source": []
  },
  {
   "cell_type": "code",
   "execution_count": 86,
   "id": "fd17d7c5-66a8-4541-95b4-97b0039a0f18",
   "metadata": {},
   "outputs": [
    {
     "data": {
      "text/plain": [
       "0.21140600779663335"
      ]
     },
     "execution_count": 86,
     "metadata": {},
     "output_type": "execute_result"
    }
   ],
   "source": [
    "# Average of percent_discount\n",
    "transactions['percent_discount'].mean()"
   ]
  },
  {
   "cell_type": "code",
   "execution_count": 88,
   "id": "e4beea09-ca7a-4d78-a49e-81f4de21d5b1",
   "metadata": {},
   "outputs": [
    {
     "data": {
      "text/plain": [
       "216713611"
      ]
     },
     "execution_count": 88,
     "metadata": {},
     "output_type": "execute_result"
    }
   ],
   "source": [
    "#Total Quantity Sold\n",
    "transactions['quantity'].sum()"
   ]
  },
  {
   "cell_type": "code",
   "execution_count": 89,
   "id": "de59381e-5e3e-4e81-a9eb-3cb92e22a008",
   "metadata": {},
   "outputs": [
    {
     "data": {
      "text/plain": [
       "89638"
      ]
     },
     "execution_count": 89,
     "metadata": {},
     "output_type": "execute_result"
    }
   ],
   "source": [
    "# Max quantity in single row\n",
    "transactions['quantity'].max()"
   ]
  },
  {
   "cell_type": "code",
   "execution_count": 154,
   "id": "bc9ebe56-80b9-447b-b520-ff67aaa5c971",
   "metadata": {},
   "outputs": [
    {
     "data": {
      "text/plain": [
       "household_key               630.0\n",
       "basket_id           34749153595.0\n",
       "day                         503.0\n",
       "product_id              6534178.0\n",
       "quantity                  89638.0\n",
       "sales_value                 250.0\n",
       "store_id                    384.0\n",
       "week_no                      73.0\n",
       "total_discount             -13.45\n",
       "percent_discount             0.05\n",
       "Name: 1442095, dtype: Float64"
      ]
     },
     "execution_count": 154,
     "metadata": {},
     "output_type": "execute_result"
    }
   ],
   "source": [
    "# Use to grab row with max value - discount rate is lower than avergae\n",
    "max_quantity_transaction = transactions.loc[transactions['quantity'].argmax()]\n",
    "max_quantity_transaction"
   ]
  },
  {
   "cell_type": "code",
   "execution_count": 91,
   "id": "81cc44dd-8681-4c25-beb6-b2b46d383a61",
   "metadata": {},
   "outputs": [
    {
     "data": {
      "text/plain": [
       "28.61797938516092"
      ]
     },
     "execution_count": 91,
     "metadata": {},
     "output_type": "execute_result"
    }
   ],
   "source": [
    "# Sales value per transaction/basket\n",
    "transactions['sales_value'].sum() /transactions['basket_id'].nunique()"
   ]
  },
  {
   "cell_type": "code",
   "execution_count": 92,
   "id": "862e6b6d-58e0-4608-b92f-bb1f56449f13",
   "metadata": {},
   "outputs": [
    {
     "data": {
      "text/plain": [
       "3175.9140066698424"
      ]
     },
     "execution_count": 92,
     "metadata": {},
     "output_type": "execute_result"
    }
   ],
   "source": [
    "# Sales value per household\n",
    "transactions['sales_value'].sum() / transactions['household_key'].nunique()"
   ]
  },
  {
   "cell_type": "markdown",
   "id": "6a79698f-19f7-4fb5-85d5-1b01d98e9552",
   "metadata": {},
   "source": [
    "### **Household Analysis**\n",
    "- Plot the total sales distribution purchased at the household level\n",
    "- Top 10 households by quantity purchased.\n",
    "- Top 10 households by sales value\n",
    "- plot Total sales value for top 10 households by value, ordered from highest to lowest"
   ]
  },
  {
   "cell_type": "code",
   "execution_count": 95,
   "id": "8466774d-63ad-41fe-88c6-f25256759491",
   "metadata": {},
   "outputs": [
    {
     "data": {
      "text/plain": [
       "<Axes: ylabel='Frequency'>"
      ]
     },
     "execution_count": 95,
     "metadata": {},
     "output_type": "execute_result"
    },
    {
     "data": {
      "image/png": "[encoded data removed]",
      "text/plain": [
       "<Figure size 640x480 with 1 Axes>"
      ]
     },
     "metadata": {},
     "output_type": "display_data"
    }
   ],
   "source": [
    "# Plot the distribution of household by total sales value\n",
    "(transactions\n",
    " .groupby(\"household_key\")\n",
    " .agg({ \"sales_value\" :'sum'})\n",
    " .plot.hist())"
   ]
  },
  {
   "cell_type": "code",
   "execution_count": 99,
   "id": "966164a5-2adf-4af7-a099-d6e044eb3a66",
   "metadata": {},
   "outputs": [
    {
     "data": {
      "text/html": [
       "<div>\n",
       "<style scoped>\n",
       "    .dataframe tbody tr th:only-of-type {\n",
       "        vertical-align: middle;\n",
       "    }\n",
       "\n",
       "    .dataframe tbody tr th {\n",
       "        vertical-align: top;\n",
       "    }\n",
       "\n",
       "    .dataframe thead th {\n",
       "        text-align: right;\n",
       "    }\n",
       "</style>\n",
       "<table border=\"1\" class=\"dataframe\">\n",
       "  <thead>\n",
       "    <tr style=\"text-align: right;\">\n",
       "      <th></th>\n",
       "      <th>sales_value</th>\n",
       "    </tr>\n",
       "    <tr>\n",
       "      <th>household_key</th>\n",
       "      <th></th>\n",
       "    </tr>\n",
       "  </thead>\n",
       "  <tbody>\n",
       "    <tr>\n",
       "      <th>1023</th>\n",
       "      <td>38319.79</td>\n",
       "    </tr>\n",
       "    <tr>\n",
       "      <th>1609</th>\n",
       "      <td>27859.68</td>\n",
       "    </tr>\n",
       "    <tr>\n",
       "      <th>1453</th>\n",
       "      <td>21661.29</td>\n",
       "    </tr>\n",
       "    <tr>\n",
       "      <th>1430</th>\n",
       "      <td>20352.99</td>\n",
       "    </tr>\n",
       "    <tr>\n",
       "      <th>718</th>\n",
       "      <td>19299.86</td>\n",
       "    </tr>\n",
       "    <tr>\n",
       "      <th>707</th>\n",
       "      <td>19194.42</td>\n",
       "    </tr>\n",
       "    <tr>\n",
       "      <th>1653</th>\n",
       "      <td>19153.75</td>\n",
       "    </tr>\n",
       "    <tr>\n",
       "      <th>1111</th>\n",
       "      <td>18894.72</td>\n",
       "    </tr>\n",
       "    <tr>\n",
       "      <th>982</th>\n",
       "      <td>18790.34</td>\n",
       "    </tr>\n",
       "    <tr>\n",
       "      <th>400</th>\n",
       "      <td>18494.14</td>\n",
       "    </tr>\n",
       "  </tbody>\n",
       "</table>\n",
       "</div>"
      ],
      "text/plain": [
       "               sales_value\n",
       "household_key             \n",
       "1023              38319.79\n",
       "1609              27859.68\n",
       "1453              21661.29\n",
       "1430              20352.99\n",
       "718               19299.86\n",
       "707               19194.42\n",
       "1653              19153.75\n",
       "1111              18894.72\n",
       "982               18790.34\n",
       "400               18494.14"
      ]
     },
     "execution_count": 99,
     "metadata": {},
     "output_type": "execute_result"
    }
   ],
   "source": [
    "# Top 10 households by total sales value\n",
    "top10_byvalue = (transactions\n",
    " .groupby(\"household_key\")\n",
    " .agg({'sales_value' : 'sum'})\n",
    " .sort_values('sales_value', ascending = False)\n",
    " .iloc[:10])\n",
    "top10_byvalue"
   ]
  },
  {
   "cell_type": "code",
   "execution_count": 101,
   "id": "044a728f-887e-460e-9c40-8153bfa7fe88",
   "metadata": {},
   "outputs": [
    {
     "data": {
      "text/html": [
       "<div>\n",
       "<style scoped>\n",
       "    .dataframe tbody tr th:only-of-type {\n",
       "        vertical-align: middle;\n",
       "    }\n",
       "\n",
       "    .dataframe tbody tr th {\n",
       "        vertical-align: top;\n",
       "    }\n",
       "\n",
       "    .dataframe thead th {\n",
       "        text-align: right;\n",
       "    }\n",
       "</style>\n",
       "<table border=\"1\" class=\"dataframe\">\n",
       "  <thead>\n",
       "    <tr style=\"text-align: right;\">\n",
       "      <th></th>\n",
       "      <th>quantity</th>\n",
       "    </tr>\n",
       "    <tr>\n",
       "      <th>household_key</th>\n",
       "      <th></th>\n",
       "    </tr>\n",
       "  </thead>\n",
       "  <tbody>\n",
       "    <tr>\n",
       "      <th>1023</th>\n",
       "      <td>4479917</td>\n",
       "    </tr>\n",
       "    <tr>\n",
       "      <th>755</th>\n",
       "      <td>3141769</td>\n",
       "    </tr>\n",
       "    <tr>\n",
       "      <th>1609</th>\n",
       "      <td>2146715</td>\n",
       "    </tr>\n",
       "    <tr>\n",
       "      <th>13</th>\n",
       "      <td>1863829</td>\n",
       "    </tr>\n",
       "    <tr>\n",
       "      <th>1430</th>\n",
       "      <td>1741892</td>\n",
       "    </tr>\n",
       "    <tr>\n",
       "      <th>1527</th>\n",
       "      <td>1734632</td>\n",
       "    </tr>\n",
       "    <tr>\n",
       "      <th>1762</th>\n",
       "      <td>1669880</td>\n",
       "    </tr>\n",
       "    <tr>\n",
       "      <th>707</th>\n",
       "      <td>1640193</td>\n",
       "    </tr>\n",
       "    <tr>\n",
       "      <th>1029</th>\n",
       "      <td>1496204</td>\n",
       "    </tr>\n",
       "    <tr>\n",
       "      <th>1314</th>\n",
       "      <td>1492863</td>\n",
       "    </tr>\n",
       "  </tbody>\n",
       "</table>\n",
       "</div>"
      ],
      "text/plain": [
       "               quantity\n",
       "household_key          \n",
       "1023            4479917\n",
       "755             3141769\n",
       "1609            2146715\n",
       "13              1863829\n",
       "1430            1741892\n",
       "1527            1734632\n",
       "1762            1669880\n",
       "707             1640193\n",
       "1029            1496204\n",
       "1314            1492863"
      ]
     },
     "execution_count": 101,
     "metadata": {},
     "output_type": "execute_result"
    }
   ],
   "source": [
    "#Top 10 househols by total quantity\n",
    "top10_byquantity = (transactions\n",
    "                    .groupby('household_key')\n",
    "                    .agg({'quantity' : 'sum'})\n",
    "                    .sort_values('quantity', ascending = False)\n",
    "                    .iloc[ : 10]\n",
    "                   )\n",
    "top10_byquantity"
   ]
  },
  {
   "cell_type": "code",
   "execution_count": 110,
   "id": "b2ffa5fc-f623-4b3f-87be-dfb8a99a5706",
   "metadata": {},
   "outputs": [
    {
     "data": {
      "text/plain": [
       "household_key\n",
       "1023    38319.79\n",
       "1609    27859.68\n",
       "1453    21661.29\n",
       "1430    20352.99\n",
       "718     19299.86\n",
       "          ...   \n",
       "11         33.39\n",
       "522        29.34\n",
       "689        28.96\n",
       "1897       19.58\n",
       "494         8.17\n",
       "Name: sales_value, Length: 2099, dtype: float64"
      ]
     },
     "execution_count": 110,
     "metadata": {},
     "output_type": "execute_result"
    }
   ],
   "source": [
    "top10_households = (transactions\n",
    " .groupby('household_key')\n",
    " .agg({ 'sales_value' : 'sum' , 'quantity' : 'sum'})\n",
    " .sort_values('sales_value', ascending = False )\n",
    " .loc[ : , 'sales_value']\n",
    " \n",
    ")\n",
    "top10_households"
   ]
  },
  {
   "cell_type": "code",
   "execution_count": 106,
   "id": "0d2b119c-da4b-46cd-bbf7-fbec1bfaddfe",
   "metadata": {},
   "outputs": [
    {
     "data": {
      "text/plain": [
       "<Axes: xlabel='household_key'>"
      ]
     },
     "execution_count": 106,
     "metadata": {},
     "output_type": "execute_result"
    },
    {
     "data": {
      "image/png": "[encoded data removed]",
      "text/plain": [
       "<Figure size 640x480 with 1 Axes>"
      ]
     },
     "metadata": {},
     "output_type": "display_data"
    }
   ],
   "source": [
    "# Top 10 households by sales value plotted with bar plot\n",
    "top10_byvalue['sales_value'].plot.bar()"
   ]
  },
  {
   "cell_type": "markdown",
   "id": "2ef38140-1915-483f-8254-67989779e3ea",
   "metadata": {},
   "source": [
    "### **Product Analysis**\n",
    "- Product with most sales by sales value plot against horizintal bar chart\n",
    "- if top selling item have higher than avergae discount rate\n",
    "- top 10 productsw by sale\n",
    "- Most common name for product id among rows with the households inour top 10 households by sales value\n",
    "- Look up the product name of the item that had the highest quantity sold in a single row"
   ]
  },
  {
   "cell_type": "code",
   "execution_count": 111,
   "id": "9b082e0b-693e-40d8-b818-64ebeef8df26",
   "metadata": {},
   "outputs": [
    {
     "data": {
      "text/html": [
       "<div>\n",
       "<style scoped>\n",
       "    .dataframe tbody tr th:only-of-type {\n",
       "        vertical-align: middle;\n",
       "    }\n",
       "\n",
       "    .dataframe tbody tr th {\n",
       "        vertical-align: top;\n",
       "    }\n",
       "\n",
       "    .dataframe thead th {\n",
       "        text-align: right;\n",
       "    }\n",
       "</style>\n",
       "<table border=\"1\" class=\"dataframe\">\n",
       "  <thead>\n",
       "    <tr style=\"text-align: right;\">\n",
       "      <th></th>\n",
       "      <th>household_key</th>\n",
       "      <th>basket_id</th>\n",
       "      <th>day</th>\n",
       "      <th>product_id</th>\n",
       "      <th>quantity</th>\n",
       "      <th>sales_value</th>\n",
       "      <th>store_id</th>\n",
       "      <th>week_no</th>\n",
       "      <th>total_discount</th>\n",
       "      <th>percent_discount</th>\n",
       "    </tr>\n",
       "  </thead>\n",
       "  <tbody>\n",
       "    <tr>\n",
       "      <th>0</th>\n",
       "      <td>1364</td>\n",
       "      <td>26984896261</td>\n",
       "      <td>1</td>\n",
       "      <td>842930</td>\n",
       "      <td>1</td>\n",
       "      <td>2.19</td>\n",
       "      <td>31742</td>\n",
       "      <td>1</td>\n",
       "      <td>0.00</td>\n",
       "      <td>0.00</td>\n",
       "    </tr>\n",
       "    <tr>\n",
       "      <th>1</th>\n",
       "      <td>1364</td>\n",
       "      <td>26984896261</td>\n",
       "      <td>1</td>\n",
       "      <td>897044</td>\n",
       "      <td>1</td>\n",
       "      <td>2.99</td>\n",
       "      <td>31742</td>\n",
       "      <td>1</td>\n",
       "      <td>-0.40</td>\n",
       "      <td>0.13</td>\n",
       "    </tr>\n",
       "    <tr>\n",
       "      <th>2</th>\n",
       "      <td>1364</td>\n",
       "      <td>26984896261</td>\n",
       "      <td>1</td>\n",
       "      <td>920955</td>\n",
       "      <td>1</td>\n",
       "      <td>3.09</td>\n",
       "      <td>31742</td>\n",
       "      <td>1</td>\n",
       "      <td>0.00</td>\n",
       "      <td>0.00</td>\n",
       "    </tr>\n",
       "    <tr>\n",
       "      <th>3</th>\n",
       "      <td>1364</td>\n",
       "      <td>26984896261</td>\n",
       "      <td>1</td>\n",
       "      <td>937406</td>\n",
       "      <td>1</td>\n",
       "      <td>2.50</td>\n",
       "      <td>31742</td>\n",
       "      <td>1</td>\n",
       "      <td>-0.99</td>\n",
       "      <td>0.40</td>\n",
       "    </tr>\n",
       "    <tr>\n",
       "      <th>4</th>\n",
       "      <td>1364</td>\n",
       "      <td>26984896261</td>\n",
       "      <td>1</td>\n",
       "      <td>981760</td>\n",
       "      <td>1</td>\n",
       "      <td>0.60</td>\n",
       "      <td>31742</td>\n",
       "      <td>1</td>\n",
       "      <td>-0.79</td>\n",
       "      <td>1.00</td>\n",
       "    </tr>\n",
       "  </tbody>\n",
       "</table>\n",
       "</div>"
      ],
      "text/plain": [
       "   household_key    basket_id  day  product_id  quantity  sales_value  \\\n",
       "0           1364  26984896261    1      842930         1         2.19   \n",
       "1           1364  26984896261    1      897044         1         2.99   \n",
       "2           1364  26984896261    1      920955         1         3.09   \n",
       "3           1364  26984896261    1      937406         1         2.50   \n",
       "4           1364  26984896261    1      981760         1         0.60   \n",
       "\n",
       "   store_id  week_no  total_discount  percent_discount  \n",
       "0     31742        1            0.00              0.00  \n",
       "1     31742        1           -0.40              0.13  \n",
       "2     31742        1            0.00              0.00  \n",
       "3     31742        1           -0.99              0.40  \n",
       "4     31742        1           -0.79              1.00  "
      ]
     },
     "execution_count": 111,
     "metadata": {},
     "output_type": "execute_result"
    }
   ],
   "source": [
    "transactions.head()"
   ]
  },
  {
   "cell_type": "code",
   "execution_count": 120,
   "id": "9b129652-eeb0-48d2-bba7-9219fe16a88f",
   "metadata": {},
   "outputs": [
    {
     "data": {
      "text/html": [
       "<div>\n",
       "<style scoped>\n",
       "    .dataframe tbody tr th:only-of-type {\n",
       "        vertical-align: middle;\n",
       "    }\n",
       "\n",
       "    .dataframe tbody tr th {\n",
       "        vertical-align: top;\n",
       "    }\n",
       "\n",
       "    .dataframe thead th {\n",
       "        text-align: right;\n",
       "    }\n",
       "</style>\n",
       "<table border=\"1\" class=\"dataframe\">\n",
       "  <thead>\n",
       "    <tr style=\"text-align: right;\">\n",
       "      <th></th>\n",
       "      <th>total_sales_value</th>\n",
       "    </tr>\n",
       "    <tr>\n",
       "      <th>product_id</th>\n",
       "      <th></th>\n",
       "    </tr>\n",
       "  </thead>\n",
       "  <tbody>\n",
       "    <tr>\n",
       "      <th>6534178</th>\n",
       "      <td>420154.13</td>\n",
       "    </tr>\n",
       "    <tr>\n",
       "      <th>6533889</th>\n",
       "      <td>42339.31</td>\n",
       "    </tr>\n",
       "    <tr>\n",
       "      <th>1029743</th>\n",
       "      <td>33894.75</td>\n",
       "    </tr>\n",
       "    <tr>\n",
       "      <th>1082185</th>\n",
       "      <td>24149.79</td>\n",
       "    </tr>\n",
       "    <tr>\n",
       "      <th>6533765</th>\n",
       "      <td>23831.14</td>\n",
       "    </tr>\n",
       "    <tr>\n",
       "      <th>6534166</th>\n",
       "      <td>23755.70</td>\n",
       "    </tr>\n",
       "    <tr>\n",
       "      <th>1106523</th>\n",
       "      <td>22931.01</td>\n",
       "    </tr>\n",
       "    <tr>\n",
       "      <th>916122</th>\n",
       "      <td>22749.02</td>\n",
       "    </tr>\n",
       "    <tr>\n",
       "      <th>995242</th>\n",
       "      <td>21229.72</td>\n",
       "    </tr>\n",
       "    <tr>\n",
       "      <th>5569230</th>\n",
       "      <td>20051.95</td>\n",
       "    </tr>\n",
       "  </tbody>\n",
       "</table>\n",
       "</div>"
      ],
      "text/plain": [
       "            total_sales_value\n",
       "product_id                   \n",
       "6534178             420154.13\n",
       "6533889              42339.31\n",
       "1029743              33894.75\n",
       "1082185              24149.79\n",
       "6533765              23831.14\n",
       "6534166              23755.70\n",
       "1106523              22931.01\n",
       "916122               22749.02\n",
       "995242               21229.72\n",
       "5569230              20051.95"
      ]
     },
     "execution_count": 120,
     "metadata": {},
     "output_type": "execute_result"
    }
   ],
   "source": [
    "# top10_products = (transactions\n",
    "#                   .groupby('product_id')\n",
    "#                   .agg({ 'sales_value' :'sum'})\n",
    "#                   .sort_values('sales_value', ascending = False)\n",
    "#                   .iloc[ : 10]\n",
    "#                  )\n",
    "# top10_products\n",
    "#Renaming the aggregated column\n",
    "top10_products = (transactions\n",
    "                  .groupby('product_id')\n",
    "                  .agg(total_sales_value = ('sales_value' , 'sum'))\n",
    "                  .sort_values('total_sales_value', ascending = False)\n",
    "                  .iloc[ : 10]\n",
    "                 )\n",
    "top10_products"
   ]
  },
  {
   "cell_type": "code",
   "execution_count": 122,
   "id": "6ec0c7a3-2dcc-4131-9957-b034ad70cdaf",
   "metadata": {},
   "outputs": [
    {
     "data": {
      "text/plain": [
       "<Axes: ylabel='product_id'>"
      ]
     },
     "execution_count": 122,
     "metadata": {},
     "output_type": "execute_result"
    },
    {
     "data": {
      "image/png": "[encoded data removed]",
      "text/plain": [
       "<Figure size 640x480 with 1 Axes>"
      ]
     },
     "metadata": {},
     "output_type": "display_data"
    }
   ],
   "source": [
    "# plot the top 10 products by sales value\n",
    "top10_products['total_sales_value'].sort_values().plot.barh()"
   ]
  },
  {
   "cell_type": "code",
   "execution_count": 123,
   "id": "e01f08a0-7f8e-4b36-a007-b9efdc516e8c",
   "metadata": {},
   "outputs": [
    {
     "data": {
      "text/plain": [
       "<Axes: ylabel='product_id'>"
      ]
     },
     "execution_count": 123,
     "metadata": {},
     "output_type": "execute_result"
    },
    {
     "data": {
      "image/png": "[encoded data removed]",
      "text/plain": [
       "<Figure size 640x480 with 1 Axes>"
      ]
     },
     "metadata": {},
     "output_type": "display_data"
    }
   ],
   "source": [
    "top10_products['total_sales_value'].plot.barh()"
   ]
  },
  {
   "cell_type": "code",
   "execution_count": 141,
   "id": "da75c0d0-44f6-444a-90d8-f1e461d7a554",
   "metadata": {},
   "outputs": [
    {
     "data": {
      "text/html": [
       "<div>\n",
       "<style scoped>\n",
       "    .dataframe tbody tr th:only-of-type {\n",
       "        vertical-align: middle;\n",
       "    }\n",
       "\n",
       "    .dataframe tbody tr th {\n",
       "        vertical-align: top;\n",
       "    }\n",
       "\n",
       "    .dataframe thead th {\n",
       "        text-align: right;\n",
       "    }\n",
       "</style>\n",
       "<table border=\"1\" class=\"dataframe\">\n",
       "  <thead>\n",
       "    <tr style=\"text-align: right;\">\n",
       "      <th></th>\n",
       "      <th>household_key</th>\n",
       "      <th>basket_id</th>\n",
       "      <th>day</th>\n",
       "      <th>product_id</th>\n",
       "      <th>quantity</th>\n",
       "      <th>sales_value</th>\n",
       "      <th>store_id</th>\n",
       "      <th>week_no</th>\n",
       "      <th>total_discount</th>\n",
       "      <th>percent_discount</th>\n",
       "    </tr>\n",
       "  </thead>\n",
       "  <tbody>\n",
       "    <tr>\n",
       "      <th>0</th>\n",
       "      <td>1364</td>\n",
       "      <td>26984896261</td>\n",
       "      <td>1</td>\n",
       "      <td>842930</td>\n",
       "      <td>1</td>\n",
       "      <td>2.19</td>\n",
       "      <td>31742</td>\n",
       "      <td>1</td>\n",
       "      <td>0.00</td>\n",
       "      <td>0.00</td>\n",
       "    </tr>\n",
       "    <tr>\n",
       "      <th>1</th>\n",
       "      <td>1364</td>\n",
       "      <td>26984896261</td>\n",
       "      <td>1</td>\n",
       "      <td>897044</td>\n",
       "      <td>1</td>\n",
       "      <td>2.99</td>\n",
       "      <td>31742</td>\n",
       "      <td>1</td>\n",
       "      <td>-0.40</td>\n",
       "      <td>0.13</td>\n",
       "    </tr>\n",
       "    <tr>\n",
       "      <th>2</th>\n",
       "      <td>1364</td>\n",
       "      <td>26984896261</td>\n",
       "      <td>1</td>\n",
       "      <td>920955</td>\n",
       "      <td>1</td>\n",
       "      <td>3.09</td>\n",
       "      <td>31742</td>\n",
       "      <td>1</td>\n",
       "      <td>0.00</td>\n",
       "      <td>0.00</td>\n",
       "    </tr>\n",
       "    <tr>\n",
       "      <th>3</th>\n",
       "      <td>1364</td>\n",
       "      <td>26984896261</td>\n",
       "      <td>1</td>\n",
       "      <td>937406</td>\n",
       "      <td>1</td>\n",
       "      <td>2.50</td>\n",
       "      <td>31742</td>\n",
       "      <td>1</td>\n",
       "      <td>-0.99</td>\n",
       "      <td>0.40</td>\n",
       "    </tr>\n",
       "    <tr>\n",
       "      <th>4</th>\n",
       "      <td>1364</td>\n",
       "      <td>26984896261</td>\n",
       "      <td>1</td>\n",
       "      <td>981760</td>\n",
       "      <td>1</td>\n",
       "      <td>0.60</td>\n",
       "      <td>31742</td>\n",
       "      <td>1</td>\n",
       "      <td>-0.79</td>\n",
       "      <td>1.00</td>\n",
       "    </tr>\n",
       "    <tr>\n",
       "      <th>...</th>\n",
       "      <td>...</td>\n",
       "      <td>...</td>\n",
       "      <td>...</td>\n",
       "      <td>...</td>\n",
       "      <td>...</td>\n",
       "      <td>...</td>\n",
       "      <td>...</td>\n",
       "      <td>...</td>\n",
       "      <td>...</td>\n",
       "      <td>...</td>\n",
       "    </tr>\n",
       "    <tr>\n",
       "      <th>2146306</th>\n",
       "      <td>1598</td>\n",
       "      <td>42305362535</td>\n",
       "      <td>711</td>\n",
       "      <td>92130</td>\n",
       "      <td>1</td>\n",
       "      <td>0.99</td>\n",
       "      <td>3228</td>\n",
       "      <td>102</td>\n",
       "      <td>0.00</td>\n",
       "      <td>0.00</td>\n",
       "    </tr>\n",
       "    <tr>\n",
       "      <th>2146307</th>\n",
       "      <td>1598</td>\n",
       "      <td>42305362535</td>\n",
       "      <td>711</td>\n",
       "      <td>114102</td>\n",
       "      <td>1</td>\n",
       "      <td>8.89</td>\n",
       "      <td>3228</td>\n",
       "      <td>102</td>\n",
       "      <td>0.00</td>\n",
       "      <td>0.00</td>\n",
       "    </tr>\n",
       "    <tr>\n",
       "      <th>2146308</th>\n",
       "      <td>1598</td>\n",
       "      <td>42305362535</td>\n",
       "      <td>711</td>\n",
       "      <td>133449</td>\n",
       "      <td>1</td>\n",
       "      <td>6.99</td>\n",
       "      <td>3228</td>\n",
       "      <td>102</td>\n",
       "      <td>0.00</td>\n",
       "      <td>0.00</td>\n",
       "    </tr>\n",
       "    <tr>\n",
       "      <th>2146309</th>\n",
       "      <td>1598</td>\n",
       "      <td>42305362535</td>\n",
       "      <td>711</td>\n",
       "      <td>6923644</td>\n",
       "      <td>1</td>\n",
       "      <td>4.50</td>\n",
       "      <td>3228</td>\n",
       "      <td>102</td>\n",
       "      <td>-0.49</td>\n",
       "      <td>0.11</td>\n",
       "    </tr>\n",
       "    <tr>\n",
       "      <th>2146310</th>\n",
       "      <td>1598</td>\n",
       "      <td>42305362535</td>\n",
       "      <td>711</td>\n",
       "      <td>14055192</td>\n",
       "      <td>1</td>\n",
       "      <td>6.99</td>\n",
       "      <td>3228</td>\n",
       "      <td>102</td>\n",
       "      <td>0.00</td>\n",
       "      <td>0.00</td>\n",
       "    </tr>\n",
       "  </tbody>\n",
       "</table>\n",
       "<p>2146311 rows × 10 columns</p>\n",
       "</div>"
      ],
      "text/plain": [
       "         household_key    basket_id  day  product_id  quantity  sales_value  \\\n",
       "0                 1364  26984896261    1      842930         1         2.19   \n",
       "1                 1364  26984896261    1      897044         1         2.99   \n",
       "2                 1364  26984896261    1      920955         1         3.09   \n",
       "3                 1364  26984896261    1      937406         1         2.50   \n",
       "4                 1364  26984896261    1      981760         1         0.60   \n",
       "...                ...          ...  ...         ...       ...          ...   \n",
       "2146306           1598  42305362535  711       92130         1         0.99   \n",
       "2146307           1598  42305362535  711      114102         1         8.89   \n",
       "2146308           1598  42305362535  711      133449         1         6.99   \n",
       "2146309           1598  42305362535  711     6923644         1         4.50   \n",
       "2146310           1598  42305362535  711    14055192         1         6.99   \n",
       "\n",
       "         store_id  week_no  total_discount  percent_discount  \n",
       "0           31742        1            0.00              0.00  \n",
       "1           31742        1           -0.40              0.13  \n",
       "2           31742        1            0.00              0.00  \n",
       "3           31742        1           -0.99              0.40  \n",
       "4           31742        1           -0.79              1.00  \n",
       "...           ...      ...             ...               ...  \n",
       "2146306      3228      102            0.00              0.00  \n",
       "2146307      3228      102            0.00              0.00  \n",
       "2146308      3228      102            0.00              0.00  \n",
       "2146309      3228      102           -0.49              0.11  \n",
       "2146310      3228      102            0.00              0.00  \n",
       "\n",
       "[2146311 rows x 10 columns]"
      ]
     },
     "execution_count": 141,
     "metadata": {},
     "output_type": "execute_result"
    }
   ],
   "source": [
    "# Total discount for top 10 products\n",
    "top10_discount_total = (transactions\n",
    "                       # .query(\"product_id in @top10_products.index\")\n",
    "                       # .loc[ : , \"total_discount\"]\n",
    "                       # .sum()\n",
    "                      )\n",
    "\n",
    "top10_discount_total"
   ]
  },
  {
   "cell_type": "code",
   "execution_count": 145,
   "id": "6f66429f-497d-476d-bca2-c288f7f6e05f",
   "metadata": {},
   "outputs": [
    {
     "data": {
      "text/plain": [
       "655086.5199999999"
      ]
     },
     "execution_count": 145,
     "metadata": {},
     "output_type": "execute_result"
    }
   ],
   "source": [
    "top10_sales_total = (transactions\n",
    "                     .query(\"product_id in @top10_products.index\")\n",
    "                     .loc[ : , \"sales_value\"]\n",
    "                     .sum()\n",
    "                    )\n",
    "top10_sales_total"
   ]
  },
  {
   "cell_type": "code",
   "execution_count": 129,
   "id": "1021bcf6-a76e-4931-90a9-e06cca1cfcea",
   "metadata": {},
   "outputs": [
    {
     "data": {
      "text/plain": [
       "-0.10331267387397927"
      ]
     },
     "execution_count": 129,
     "metadata": {},
     "output_type": "execute_result"
    }
   ],
   "source": [
    "top10_discount_total/top10_sales_total"
   ]
  },
  {
   "cell_type": "markdown",
   "id": "1411e6c3-a6f9-4803-835c-403397704246",
   "metadata": {},
   "source": [
    "### Reading products.csv"
   ]
  },
  {
   "cell_type": "code",
   "execution_count": 131,
   "id": "a9b79a89-f24c-4acc-8655-9dc6bca70476",
   "metadata": {},
   "outputs": [
    {
     "data": {
      "text/plain": [
       "['.DS_Store',\n",
       " 'hh_demographic.csv',\n",
       " 'premier_league_games.xlsx',\n",
       " 'premier_league_games_full.xlsx',\n",
       " 'product.csv',\n",
       " 'project_transactions.csv']"
      ]
     },
     "execution_count": 131,
     "metadata": {},
     "output_type": "execute_result"
    }
   ],
   "source": [
    "os.listdir(base_dir)"
   ]
  },
  {
   "cell_type": "code",
   "execution_count": 132,
   "id": "f094e330-fd29-4a12-873d-a19464ccf4b1",
   "metadata": {},
   "outputs": [],
   "source": [
    "products = pd.read_csv(base_dir + \"product.csv\")"
   ]
  },
  {
   "cell_type": "code",
   "execution_count": 135,
   "id": "d67ff840-d780-4dfb-92b8-0b0118d51731",
   "metadata": {},
   "outputs": [
    {
     "data": {
      "text/html": [
       "<div>\n",
       "<style scoped>\n",
       "    .dataframe tbody tr th:only-of-type {\n",
       "        vertical-align: middle;\n",
       "    }\n",
       "\n",
       "    .dataframe tbody tr th {\n",
       "        vertical-align: top;\n",
       "    }\n",
       "\n",
       "    .dataframe thead th {\n",
       "        text-align: right;\n",
       "    }\n",
       "</style>\n",
       "<table border=\"1\" class=\"dataframe\">\n",
       "  <thead>\n",
       "    <tr style=\"text-align: right;\">\n",
       "      <th></th>\n",
       "      <th>PRODUCT_ID</th>\n",
       "      <th>MANUFACTURER</th>\n",
       "      <th>DEPARTMENT</th>\n",
       "      <th>BRAND</th>\n",
       "      <th>COMMODITY_DESC</th>\n",
       "      <th>SUB_COMMODITY_DESC</th>\n",
       "      <th>CURR_SIZE_OF_PRODUCT</th>\n",
       "    </tr>\n",
       "  </thead>\n",
       "  <tbody>\n",
       "    <tr>\n",
       "      <th>0</th>\n",
       "      <td>25671</td>\n",
       "      <td>2</td>\n",
       "      <td>GROCERY</td>\n",
       "      <td>National</td>\n",
       "      <td>FRZN ICE</td>\n",
       "      <td>ICE - CRUSHED/CUBED</td>\n",
       "      <td>22 LB</td>\n",
       "    </tr>\n",
       "    <tr>\n",
       "      <th>1</th>\n",
       "      <td>26081</td>\n",
       "      <td>2</td>\n",
       "      <td>MISC. TRANS.</td>\n",
       "      <td>National</td>\n",
       "      <td>NO COMMODITY DESCRIPTION</td>\n",
       "      <td>NO SUBCOMMODITY DESCRIPTION</td>\n",
       "      <td></td>\n",
       "    </tr>\n",
       "    <tr>\n",
       "      <th>2</th>\n",
       "      <td>26093</td>\n",
       "      <td>69</td>\n",
       "      <td>PASTRY</td>\n",
       "      <td>Private</td>\n",
       "      <td>BREAD</td>\n",
       "      <td>BREAD:ITALIAN/FRENCH</td>\n",
       "      <td></td>\n",
       "    </tr>\n",
       "    <tr>\n",
       "      <th>3</th>\n",
       "      <td>26190</td>\n",
       "      <td>69</td>\n",
       "      <td>GROCERY</td>\n",
       "      <td>Private</td>\n",
       "      <td>FRUIT - SHELF STABLE</td>\n",
       "      <td>APPLE SAUCE</td>\n",
       "      <td>50 OZ</td>\n",
       "    </tr>\n",
       "    <tr>\n",
       "      <th>4</th>\n",
       "      <td>26355</td>\n",
       "      <td>69</td>\n",
       "      <td>GROCERY</td>\n",
       "      <td>Private</td>\n",
       "      <td>COOKIES/CONES</td>\n",
       "      <td>SPECIALTY COOKIES</td>\n",
       "      <td>14 OZ</td>\n",
       "    </tr>\n",
       "  </tbody>\n",
       "</table>\n",
       "</div>"
      ],
      "text/plain": [
       "   PRODUCT_ID  MANUFACTURER    DEPARTMENT     BRAND            COMMODITY_DESC  \\\n",
       "0       25671             2       GROCERY  National                  FRZN ICE   \n",
       "1       26081             2  MISC. TRANS.  National  NO COMMODITY DESCRIPTION   \n",
       "2       26093            69        PASTRY   Private                     BREAD   \n",
       "3       26190            69       GROCERY   Private      FRUIT - SHELF STABLE   \n",
       "4       26355            69       GROCERY   Private             COOKIES/CONES   \n",
       "\n",
       "            SUB_COMMODITY_DESC CURR_SIZE_OF_PRODUCT  \n",
       "0          ICE - CRUSHED/CUBED                22 LB  \n",
       "1  NO SUBCOMMODITY DESCRIPTION                       \n",
       "2         BREAD:ITALIAN/FRENCH                       \n",
       "3                  APPLE SAUCE                50 OZ  \n",
       "4            SPECIALTY COOKIES                14 OZ  "
      ]
     },
     "execution_count": 135,
     "metadata": {},
     "output_type": "execute_result"
    }
   ],
   "source": [
    "products.head()"
   ]
  },
  {
   "cell_type": "code",
   "execution_count": 148,
   "id": "fb12f682-e9d1-421e-b168-2c77c0e878dd",
   "metadata": {},
   "outputs": [],
   "source": [
    "products.rename( columns= {'PRODUCT_ID' : 'product_id'} , inplace = True)"
   ]
  },
  {
   "cell_type": "code",
   "execution_count": 150,
   "id": "5891a1ac-00d9-4b27-9e16-69c5a4c8d448",
   "metadata": {},
   "outputs": [
    {
     "data": {
      "text/html": [
       "<div>\n",
       "<style scoped>\n",
       "    .dataframe tbody tr th:only-of-type {\n",
       "        vertical-align: middle;\n",
       "    }\n",
       "\n",
       "    .dataframe tbody tr th {\n",
       "        vertical-align: top;\n",
       "    }\n",
       "\n",
       "    .dataframe thead th {\n",
       "        text-align: right;\n",
       "    }\n",
       "</style>\n",
       "<table border=\"1\" class=\"dataframe\">\n",
       "  <thead>\n",
       "    <tr style=\"text-align: right;\">\n",
       "      <th></th>\n",
       "      <th>product_id</th>\n",
       "      <th>MANUFACTURER</th>\n",
       "      <th>DEPARTMENT</th>\n",
       "      <th>BRAND</th>\n",
       "      <th>COMMODITY_DESC</th>\n",
       "      <th>SUB_COMMODITY_DESC</th>\n",
       "      <th>CURR_SIZE_OF_PRODUCT</th>\n",
       "    </tr>\n",
       "  </thead>\n",
       "  <tbody>\n",
       "    <tr>\n",
       "      <th>0</th>\n",
       "      <td>25671</td>\n",
       "      <td>2</td>\n",
       "      <td>GROCERY</td>\n",
       "      <td>National</td>\n",
       "      <td>FRZN ICE</td>\n",
       "      <td>ICE - CRUSHED/CUBED</td>\n",
       "      <td>22 LB</td>\n",
       "    </tr>\n",
       "    <tr>\n",
       "      <th>1</th>\n",
       "      <td>26081</td>\n",
       "      <td>2</td>\n",
       "      <td>MISC. TRANS.</td>\n",
       "      <td>National</td>\n",
       "      <td>NO COMMODITY DESCRIPTION</td>\n",
       "      <td>NO SUBCOMMODITY DESCRIPTION</td>\n",
       "      <td></td>\n",
       "    </tr>\n",
       "    <tr>\n",
       "      <th>2</th>\n",
       "      <td>26093</td>\n",
       "      <td>69</td>\n",
       "      <td>PASTRY</td>\n",
       "      <td>Private</td>\n",
       "      <td>BREAD</td>\n",
       "      <td>BREAD:ITALIAN/FRENCH</td>\n",
       "      <td></td>\n",
       "    </tr>\n",
       "    <tr>\n",
       "      <th>3</th>\n",
       "      <td>26190</td>\n",
       "      <td>69</td>\n",
       "      <td>GROCERY</td>\n",
       "      <td>Private</td>\n",
       "      <td>FRUIT - SHELF STABLE</td>\n",
       "      <td>APPLE SAUCE</td>\n",
       "      <td>50 OZ</td>\n",
       "    </tr>\n",
       "    <tr>\n",
       "      <th>4</th>\n",
       "      <td>26355</td>\n",
       "      <td>69</td>\n",
       "      <td>GROCERY</td>\n",
       "      <td>Private</td>\n",
       "      <td>COOKIES/CONES</td>\n",
       "      <td>SPECIALTY COOKIES</td>\n",
       "      <td>14 OZ</td>\n",
       "    </tr>\n",
       "  </tbody>\n",
       "</table>\n",
       "</div>"
      ],
      "text/plain": [
       "   product_id  MANUFACTURER    DEPARTMENT     BRAND            COMMODITY_DESC  \\\n",
       "0       25671             2       GROCERY  National                  FRZN ICE   \n",
       "1       26081             2  MISC. TRANS.  National  NO COMMODITY DESCRIPTION   \n",
       "2       26093            69        PASTRY   Private                     BREAD   \n",
       "3       26190            69       GROCERY   Private      FRUIT - SHELF STABLE   \n",
       "4       26355            69       GROCERY   Private             COOKIES/CONES   \n",
       "\n",
       "            SUB_COMMODITY_DESC CURR_SIZE_OF_PRODUCT  \n",
       "0          ICE - CRUSHED/CUBED                22 LB  \n",
       "1  NO SUBCOMMODITY DESCRIPTION                       \n",
       "2         BREAD:ITALIAN/FRENCH                       \n",
       "3                  APPLE SAUCE                50 OZ  \n",
       "4            SPECIALTY COOKIES                14 OZ  "
      ]
     },
     "execution_count": 150,
     "metadata": {},
     "output_type": "execute_result"
    }
   ],
   "source": [
    "products.head()"
   ]
  },
  {
   "cell_type": "code",
   "execution_count": 152,
   "id": "0299b062-a53b-434d-ba63-ee60c22289e1",
   "metadata": {},
   "outputs": [
    {
     "data": {
      "text/plain": [
       "product_id\n",
       "1082185    576\n",
       "1029743    573\n",
       "6534178    561\n",
       "6533889    418\n",
       "1127831    230\n",
       "951590     202\n",
       "860776     184\n",
       "1106523    178\n",
       "981760     174\n",
       "9677202    168\n",
       "Name: count, dtype: int64"
      ]
     },
     "execution_count": 152,
     "metadata": {},
     "output_type": "execute_result"
    }
   ],
   "source": [
    "# Top 10 producrs brought by top 10 households with max sales\n",
    "top10_hh_products = transactions \\\n",
    "                    .query(\"household_key in @top10_byvalue.index\") \\\n",
    "                    .loc[: , 'product_id'] \\\n",
    "                    .value_counts() \\\n",
    "                    .iloc[:10] \\\n",
    "                    # .index\n",
    "top10_hh_products"
   ]
  },
  {
   "cell_type": "code",
   "execution_count": 151,
   "id": "52ba0abc-dbc4-4ca3-b051-c078ed1b36c6",
   "metadata": {},
   "outputs": [
    {
     "data": {
      "text/html": [
       "<div>\n",
       "<style scoped>\n",
       "    .dataframe tbody tr th:only-of-type {\n",
       "        vertical-align: middle;\n",
       "    }\n",
       "\n",
       "    .dataframe tbody tr th {\n",
       "        vertical-align: top;\n",
       "    }\n",
       "\n",
       "    .dataframe thead th {\n",
       "        text-align: right;\n",
       "    }\n",
       "</style>\n",
       "<table border=\"1\" class=\"dataframe\">\n",
       "  <thead>\n",
       "    <tr style=\"text-align: right;\">\n",
       "      <th></th>\n",
       "      <th>product_id</th>\n",
       "      <th>MANUFACTURER</th>\n",
       "      <th>DEPARTMENT</th>\n",
       "      <th>BRAND</th>\n",
       "      <th>COMMODITY_DESC</th>\n",
       "      <th>SUB_COMMODITY_DESC</th>\n",
       "      <th>CURR_SIZE_OF_PRODUCT</th>\n",
       "    </tr>\n",
       "  </thead>\n",
       "  <tbody>\n",
       "    <tr>\n",
       "      <th>10630</th>\n",
       "      <td>860776</td>\n",
       "      <td>2</td>\n",
       "      <td>PRODUCE</td>\n",
       "      <td>National</td>\n",
       "      <td>VEGETABLES - ALL OTHERS</td>\n",
       "      <td>CUCUMBERS</td>\n",
       "      <td>36 CT</td>\n",
       "    </tr>\n",
       "    <tr>\n",
       "      <th>20973</th>\n",
       "      <td>951590</td>\n",
       "      <td>910</td>\n",
       "      <td>GROCERY</td>\n",
       "      <td>National</td>\n",
       "      <td>BAKED BREAD/BUNS/ROLLS</td>\n",
       "      <td>MAINSTREAM WHITE BREAD</td>\n",
       "      <td>20 OZ</td>\n",
       "    </tr>\n",
       "    <tr>\n",
       "      <th>24250</th>\n",
       "      <td>981760</td>\n",
       "      <td>69</td>\n",
       "      <td>GROCERY</td>\n",
       "      <td>Private</td>\n",
       "      <td>EGGS</td>\n",
       "      <td>EGGS - X-LARGE</td>\n",
       "      <td>1 DZ</td>\n",
       "    </tr>\n",
       "    <tr>\n",
       "      <th>29657</th>\n",
       "      <td>1029743</td>\n",
       "      <td>69</td>\n",
       "      <td>GROCERY</td>\n",
       "      <td>Private</td>\n",
       "      <td>FLUID MILK PRODUCTS</td>\n",
       "      <td>FLUID MILK WHITE ONLY</td>\n",
       "      <td>1 GA</td>\n",
       "    </tr>\n",
       "    <tr>\n",
       "      <th>35576</th>\n",
       "      <td>1082185</td>\n",
       "      <td>2</td>\n",
       "      <td>PRODUCE</td>\n",
       "      <td>National</td>\n",
       "      <td>TROPICAL FRUIT</td>\n",
       "      <td>BANANAS</td>\n",
       "      <td>40 LB</td>\n",
       "    </tr>\n",
       "    <tr>\n",
       "      <th>38262</th>\n",
       "      <td>1106523</td>\n",
       "      <td>69</td>\n",
       "      <td>GROCERY</td>\n",
       "      <td>Private</td>\n",
       "      <td>FLUID MILK PRODUCTS</td>\n",
       "      <td>FLUID MILK WHITE ONLY</td>\n",
       "      <td>1 GA</td>\n",
       "    </tr>\n",
       "    <tr>\n",
       "      <th>40600</th>\n",
       "      <td>1127831</td>\n",
       "      <td>5937</td>\n",
       "      <td>PRODUCE</td>\n",
       "      <td>National</td>\n",
       "      <td>BERRIES</td>\n",
       "      <td>STRAWBERRIES</td>\n",
       "      <td>16 OZ</td>\n",
       "    </tr>\n",
       "    <tr>\n",
       "      <th>57181</th>\n",
       "      <td>6533889</td>\n",
       "      <td>69</td>\n",
       "      <td>MISC SALES TRAN</td>\n",
       "      <td>Private</td>\n",
       "      <td>COUPON/MISC ITEMS</td>\n",
       "      <td>GASOLINE-REG UNLEADED</td>\n",
       "      <td></td>\n",
       "    </tr>\n",
       "    <tr>\n",
       "      <th>57221</th>\n",
       "      <td>6534178</td>\n",
       "      <td>69</td>\n",
       "      <td>KIOSK-GAS</td>\n",
       "      <td>Private</td>\n",
       "      <td>COUPON/MISC ITEMS</td>\n",
       "      <td>GASOLINE-REG UNLEADED</td>\n",
       "      <td></td>\n",
       "    </tr>\n",
       "    <tr>\n",
       "      <th>68952</th>\n",
       "      <td>9677202</td>\n",
       "      <td>69</td>\n",
       "      <td>GROCERY</td>\n",
       "      <td>Private</td>\n",
       "      <td>PAPER TOWELS</td>\n",
       "      <td>PAPER TOWELS &amp; HOLDERS</td>\n",
       "      <td></td>\n",
       "    </tr>\n",
       "  </tbody>\n",
       "</table>\n",
       "</div>"
      ],
      "text/plain": [
       "       product_id  MANUFACTURER       DEPARTMENT     BRAND  \\\n",
       "10630      860776             2          PRODUCE  National   \n",
       "20973      951590           910          GROCERY  National   \n",
       "24250      981760            69          GROCERY   Private   \n",
       "29657     1029743            69          GROCERY   Private   \n",
       "35576     1082185             2          PRODUCE  National   \n",
       "38262     1106523            69          GROCERY   Private   \n",
       "40600     1127831          5937          PRODUCE  National   \n",
       "57181     6533889            69  MISC SALES TRAN   Private   \n",
       "57221     6534178            69        KIOSK-GAS   Private   \n",
       "68952     9677202            69          GROCERY   Private   \n",
       "\n",
       "                COMMODITY_DESC      SUB_COMMODITY_DESC CURR_SIZE_OF_PRODUCT  \n",
       "10630  VEGETABLES - ALL OTHERS               CUCUMBERS                36 CT  \n",
       "20973   BAKED BREAD/BUNS/ROLLS  MAINSTREAM WHITE BREAD                20 OZ  \n",
       "24250                     EGGS          EGGS - X-LARGE                 1 DZ  \n",
       "29657      FLUID MILK PRODUCTS   FLUID MILK WHITE ONLY                 1 GA  \n",
       "35576           TROPICAL FRUIT                 BANANAS                40 LB  \n",
       "38262      FLUID MILK PRODUCTS   FLUID MILK WHITE ONLY                 1 GA  \n",
       "40600                  BERRIES            STRAWBERRIES                16 OZ  \n",
       "57181        COUPON/MISC ITEMS   GASOLINE-REG UNLEADED                       \n",
       "57221        COUPON/MISC ITEMS   GASOLINE-REG UNLEADED                       \n",
       "68952             PAPER TOWELS  PAPER TOWELS & HOLDERS                       "
      ]
     },
     "execution_count": 151,
     "metadata": {},
     "output_type": "execute_result"
    }
   ],
   "source": [
    "# Filter the products table for top 10 products by top10 households\n",
    "products.query(\"product_id in @top10_hh_products\")"
   ]
  },
  {
   "cell_type": "code",
   "execution_count": 155,
   "id": "d87f49bc-df41-4dfe-bc82-3c4daf61a695",
   "metadata": {},
   "outputs": [
    {
     "data": {
      "text/html": [
       "<div>\n",
       "<style scoped>\n",
       "    .dataframe tbody tr th:only-of-type {\n",
       "        vertical-align: middle;\n",
       "    }\n",
       "\n",
       "    .dataframe tbody tr th {\n",
       "        vertical-align: top;\n",
       "    }\n",
       "\n",
       "    .dataframe thead th {\n",
       "        text-align: right;\n",
       "    }\n",
       "</style>\n",
       "<table border=\"1\" class=\"dataframe\">\n",
       "  <thead>\n",
       "    <tr style=\"text-align: right;\">\n",
       "      <th></th>\n",
       "      <th>product_id</th>\n",
       "      <th>MANUFACTURER</th>\n",
       "      <th>DEPARTMENT</th>\n",
       "      <th>BRAND</th>\n",
       "      <th>COMMODITY_DESC</th>\n",
       "      <th>SUB_COMMODITY_DESC</th>\n",
       "      <th>CURR_SIZE_OF_PRODUCT</th>\n",
       "    </tr>\n",
       "  </thead>\n",
       "  <tbody>\n",
       "    <tr>\n",
       "      <th>57221</th>\n",
       "      <td>6534178</td>\n",
       "      <td>69</td>\n",
       "      <td>KIOSK-GAS</td>\n",
       "      <td>Private</td>\n",
       "      <td>COUPON/MISC ITEMS</td>\n",
       "      <td>GASOLINE-REG UNLEADED</td>\n",
       "      <td></td>\n",
       "    </tr>\n",
       "  </tbody>\n",
       "</table>\n",
       "</div>"
      ],
      "text/plain": [
       "       product_id  MANUFACTURER DEPARTMENT    BRAND     COMMODITY_DESC  \\\n",
       "57221     6534178            69  KIOSK-GAS  Private  COUPON/MISC ITEMS   \n",
       "\n",
       "          SUB_COMMODITY_DESC CURR_SIZE_OF_PRODUCT  \n",
       "57221  GASOLINE-REG UNLEADED                       "
      ]
     },
     "execution_count": 155,
     "metadata": {},
     "output_type": "execute_result"
    }
   ],
   "source": [
    "# products with highest quantity in a single transaction\n",
    "products.query(\" product_id in @max_quantity_transaction\")"
   ]
  },
  {
   "cell_type": "code",
   "execution_count": 156,
   "id": "d8bd6eba-da9d-4beb-bfb3-729e9693beed",
   "metadata": {},
   "outputs": [
    {
     "data": {
      "text/plain": [
       "household_key               630.0\n",
       "basket_id           34749153595.0\n",
       "day                         503.0\n",
       "product_id              6534178.0\n",
       "quantity                  89638.0\n",
       "sales_value                 250.0\n",
       "store_id                    384.0\n",
       "week_no                      73.0\n",
       "total_discount             -13.45\n",
       "percent_discount             0.05\n",
       "Name: 1442095, dtype: Float64"
      ]
     },
     "execution_count": 156,
     "metadata": {},
     "output_type": "execute_result"
    }
   ],
   "source": [
    "max_quantity_transaction"
   ]
  },
  {
   "cell_type": "code",
   "execution_count": 157,
   "id": "61a76002-3df7-42fb-8a21-8fd1b845a0ba",
   "metadata": {},
   "outputs": [
    {
     "data": {
      "text/html": [
       "<div>\n",
       "<style scoped>\n",
       "    .dataframe tbody tr th:only-of-type {\n",
       "        vertical-align: middle;\n",
       "    }\n",
       "\n",
       "    .dataframe tbody tr th {\n",
       "        vertical-align: top;\n",
       "    }\n",
       "\n",
       "    .dataframe thead th {\n",
       "        text-align: right;\n",
       "    }\n",
       "</style>\n",
       "<table border=\"1\" class=\"dataframe\">\n",
       "  <thead>\n",
       "    <tr style=\"text-align: right;\">\n",
       "      <th></th>\n",
       "      <th>product_id</th>\n",
       "      <th>MANUFACTURER</th>\n",
       "      <th>DEPARTMENT</th>\n",
       "      <th>BRAND</th>\n",
       "      <th>COMMODITY_DESC</th>\n",
       "      <th>SUB_COMMODITY_DESC</th>\n",
       "      <th>CURR_SIZE_OF_PRODUCT</th>\n",
       "    </tr>\n",
       "  </thead>\n",
       "  <tbody>\n",
       "    <tr>\n",
       "      <th>16863</th>\n",
       "      <td>916122</td>\n",
       "      <td>4314</td>\n",
       "      <td>MEAT</td>\n",
       "      <td>National</td>\n",
       "      <td>CHICKEN</td>\n",
       "      <td>CHICKEN BREAST BONELESS</td>\n",
       "      <td></td>\n",
       "    </tr>\n",
       "    <tr>\n",
       "      <th>25754</th>\n",
       "      <td>995242</td>\n",
       "      <td>69</td>\n",
       "      <td>GROCERY</td>\n",
       "      <td>Private</td>\n",
       "      <td>FLUID MILK PRODUCTS</td>\n",
       "      <td>FLUID MILK WHITE ONLY</td>\n",
       "      <td></td>\n",
       "    </tr>\n",
       "    <tr>\n",
       "      <th>29657</th>\n",
       "      <td>1029743</td>\n",
       "      <td>69</td>\n",
       "      <td>GROCERY</td>\n",
       "      <td>Private</td>\n",
       "      <td>FLUID MILK PRODUCTS</td>\n",
       "      <td>FLUID MILK WHITE ONLY</td>\n",
       "      <td>1 GA</td>\n",
       "    </tr>\n",
       "    <tr>\n",
       "      <th>35576</th>\n",
       "      <td>1082185</td>\n",
       "      <td>2</td>\n",
       "      <td>PRODUCE</td>\n",
       "      <td>National</td>\n",
       "      <td>TROPICAL FRUIT</td>\n",
       "      <td>BANANAS</td>\n",
       "      <td>40 LB</td>\n",
       "    </tr>\n",
       "    <tr>\n",
       "      <th>38262</th>\n",
       "      <td>1106523</td>\n",
       "      <td>69</td>\n",
       "      <td>GROCERY</td>\n",
       "      <td>Private</td>\n",
       "      <td>FLUID MILK PRODUCTS</td>\n",
       "      <td>FLUID MILK WHITE ONLY</td>\n",
       "      <td>1 GA</td>\n",
       "    </tr>\n",
       "    <tr>\n",
       "      <th>53097</th>\n",
       "      <td>5569230</td>\n",
       "      <td>1208</td>\n",
       "      <td>GROCERY</td>\n",
       "      <td>National</td>\n",
       "      <td>SOFT DRINKS</td>\n",
       "      <td>SOFT DRINKS 12/18&amp;15PK CAN CAR</td>\n",
       "      <td>12 OZ</td>\n",
       "    </tr>\n",
       "    <tr>\n",
       "      <th>57171</th>\n",
       "      <td>6533765</td>\n",
       "      <td>69</td>\n",
       "      <td>KIOSK-GAS</td>\n",
       "      <td>Private</td>\n",
       "      <td>FUEL</td>\n",
       "      <td>GASOLINE-REG UNLEADED</td>\n",
       "      <td></td>\n",
       "    </tr>\n",
       "    <tr>\n",
       "      <th>57181</th>\n",
       "      <td>6533889</td>\n",
       "      <td>69</td>\n",
       "      <td>MISC SALES TRAN</td>\n",
       "      <td>Private</td>\n",
       "      <td>COUPON/MISC ITEMS</td>\n",
       "      <td>GASOLINE-REG UNLEADED</td>\n",
       "      <td></td>\n",
       "    </tr>\n",
       "    <tr>\n",
       "      <th>57216</th>\n",
       "      <td>6534166</td>\n",
       "      <td>69</td>\n",
       "      <td>MISC SALES TRAN</td>\n",
       "      <td>Private</td>\n",
       "      <td>COUPON/MISC ITEMS</td>\n",
       "      <td>GASOLINE-REG UNLEADED</td>\n",
       "      <td></td>\n",
       "    </tr>\n",
       "    <tr>\n",
       "      <th>57221</th>\n",
       "      <td>6534178</td>\n",
       "      <td>69</td>\n",
       "      <td>KIOSK-GAS</td>\n",
       "      <td>Private</td>\n",
       "      <td>COUPON/MISC ITEMS</td>\n",
       "      <td>GASOLINE-REG UNLEADED</td>\n",
       "      <td></td>\n",
       "    </tr>\n",
       "  </tbody>\n",
       "</table>\n",
       "</div>"
      ],
      "text/plain": [
       "       product_id  MANUFACTURER       DEPARTMENT     BRAND  \\\n",
       "16863      916122          4314             MEAT  National   \n",
       "25754      995242            69          GROCERY   Private   \n",
       "29657     1029743            69          GROCERY   Private   \n",
       "35576     1082185             2          PRODUCE  National   \n",
       "38262     1106523            69          GROCERY   Private   \n",
       "53097     5569230          1208          GROCERY  National   \n",
       "57171     6533765            69        KIOSK-GAS   Private   \n",
       "57181     6533889            69  MISC SALES TRAN   Private   \n",
       "57216     6534166            69  MISC SALES TRAN   Private   \n",
       "57221     6534178            69        KIOSK-GAS   Private   \n",
       "\n",
       "            COMMODITY_DESC              SUB_COMMODITY_DESC  \\\n",
       "16863              CHICKEN         CHICKEN BREAST BONELESS   \n",
       "25754  FLUID MILK PRODUCTS           FLUID MILK WHITE ONLY   \n",
       "29657  FLUID MILK PRODUCTS           FLUID MILK WHITE ONLY   \n",
       "35576       TROPICAL FRUIT                         BANANAS   \n",
       "38262  FLUID MILK PRODUCTS           FLUID MILK WHITE ONLY   \n",
       "53097          SOFT DRINKS  SOFT DRINKS 12/18&15PK CAN CAR   \n",
       "57171                 FUEL           GASOLINE-REG UNLEADED   \n",
       "57181    COUPON/MISC ITEMS           GASOLINE-REG UNLEADED   \n",
       "57216    COUPON/MISC ITEMS           GASOLINE-REG UNLEADED   \n",
       "57221    COUPON/MISC ITEMS           GASOLINE-REG UNLEADED   \n",
       "\n",
       "      CURR_SIZE_OF_PRODUCT  \n",
       "16863                       \n",
       "25754                       \n",
       "29657                 1 GA  \n",
       "35576                40 LB  \n",
       "38262                 1 GA  \n",
       "53097                12 OZ  \n",
       "57171                       \n",
       "57181                       \n",
       "57216                       \n",
       "57221                       "
      ]
     },
     "execution_count": 157,
     "metadata": {},
     "output_type": "execute_result"
    }
   ],
   "source": [
    "# Top 10 product names for all customers\n",
    "products.query(\"product_id in @top10_products.index\")"
   ]
  },
  {
   "cell_type": "code",
   "execution_count": null,
   "id": "f781b58f-3bf3-4823-82a4-292b76cbf2dc",
   "metadata": {},
   "outputs": [],
   "source": []
  }
 ],
 "metadata": {
  "kernelspec": {
   "display_name": "Python 3 (ipykernel)",
   "language": "python",
   "name": "python3"
  },
  "language_info": {
   "codemirror_mode": {
    "name": "ipython",
    "version": 3
   },
   "file_extension": ".py",
   "mimetype": "text/x-python",
   "name": "python",
   "nbconvert_exporter": "python",
   "pygments_lexer": "ipython3",
   "version": "3.12.7"
  }
 },
 "nbformat": 4,
 "nbformat_minor": 5
}
